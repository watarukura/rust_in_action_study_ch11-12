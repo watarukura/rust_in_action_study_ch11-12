{
 "cells": [
  {
   "cell_type": "code",
   "execution_count": 2,
   "metadata": {},
   "outputs": [],
   "source": [
    ":dep rand = \"0.6\""
   ]
  },
  {
   "cell_type": "code",
   "execution_count": 3,
   "metadata": {},
   "outputs": [
    {
     "name": "stdout",
     "output_type": "stream",
     "text": [
      "...\n"
     ]
    }
   ],
   "source": [
    "use rand;\n",
    "\n",
    "static mut SHUT_DOWN: bool = false;\n",
    "\n",
    "fn main() {\n",
    "    loop {\n",
    "        unsafe {\n",
    "            SHUT_DOWN = rand::random();\n",
    "        }\n",
    "        print!(\".\");\n",
    "\n",
    "        if unsafe {SHUT_DOWN} {\n",
    "            break;\n",
    "        };\n",
    "    }\n",
    "    println!()\n",
    "}\n",
    "\n",
    "main();"
   ]
  },
  {
   "cell_type": "code",
   "execution_count": 4,
   "metadata": {},
   "outputs": [],
   "source": [
    ":dep libc = \"0.2\""
   ]
  },
  {
   "cell_type": "code",
   "execution_count": 6,
   "metadata": {},
   "outputs": [
    {
     "name": "stdout",
     "output_type": "stream",
     "text": [
      "1\n",
      "SIGUSR1\n",
      "2\n",
      "SIGUSR1\n",
      "3\n",
      "SIGTERM\n",
      "4\n",
      "*\n"
     ]
    }
   ],
   "source": [
    "#![cfg(not(windows))]\n",
    "\n",
    "use std::time::{Duration};\n",
    "use std::thread::{sleep};\n",
    "use libc::{SIGTERM, SIGUSR1};\n",
    "\n",
    "static mut SHUT_DOWN: bool = false;\n",
    "\n",
    "fn main() {\n",
    "    register_signal_handlers();\n",
    "\n",
    "    let delay = Duration::from_secs(1);\n",
    "\n",
    "    for i in 1_usize.. {\n",
    "        println!(\"{}\", i);\n",
    "        unsafe {\n",
    "            if SHUT_DOWN {\n",
    "                println!(\"*\");\n",
    "                return;\n",
    "            }\n",
    "        }\n",
    "        sleep(delay);\n",
    "\n",
    "        let signal = if i > 2 {\n",
    "            SIGTERM\n",
    "        } else {\n",
    "            SIGUSR1\n",
    "        };\n",
    "\n",
    "        unsafe {\n",
    "            libc::raise(signal);\n",
    "        }\n",
    "    }\n",
    "    unreachable!();\n",
    "}\n",
    "\n",
    "fn register_signal_handlers() {\n",
    "    unsafe {\n",
    "        libc::signal(SIGTERM, handle_sigterm as usize);\n",
    "        libc::signal(SIGUSR1, handle_sigusr1 as usize);\n",
    "    }\n",
    "}\n",
    "\n",
    "#[allow(dead_code)]\n",
    "fn handle_sigterm(_signal: i32) {\n",
    "    register_signal_handlers();\n",
    "    println!(\"SIGTERM\");\n",
    "\n",
    "    unsafe {\n",
    "        SHUT_DOWN = true;\n",
    "    }\n",
    "}\n",
    "\n",
    "#[allow(dead_code)]\n",
    "fn handle_sigusr1(_signal: i32) {\n",
    "    register_signal_handlers();\n",
    "    println!(\"SIGUSR1\");\n",
    "}\n",
    "\n",
    "main();"
   ]
  },
  {
   "cell_type": "code",
   "execution_count": 7,
   "metadata": {},
   "outputs": [
    {
     "name": "stdout",
     "output_type": "stream",
     "text": [
      "noop as usize: 0x7f11ca286790\n"
     ]
    }
   ],
   "source": [
    "fn noop() {}\n",
    "\n",
    "fn main() {\n",
    "    let fn_ptr = noop as usize;\n",
    "\n",
    "    println!(\"noop as usize: 0x{:x}\", fn_ptr);\n",
    "}\n",
    "\n",
    "main();"
   ]
  },
  {
   "cell_type": "code",
   "execution_count": 8,
   "metadata": {},
   "outputs": [
    {
     "name": "stdout",
     "output_type": "stream",
     "text": [
      "noop as usize: 0x7f11ca282880\n",
      "noop as *const T: 0x7f11ca282880\n"
     ]
    }
   ],
   "source": [
    "fn noop() {}\n",
    "\n",
    "fn main() {\n",
    "    let fn_ptr = noop as usize;\n",
    "    let typed_fn_ptr = noop as *const fn() -> ();\n",
    "\n",
    "    println!(\"noop as usize: 0x{:x}\", fn_ptr);\n",
    "    println!(\"noop as *const T: {:p}\", typed_fn_ptr);\n",
    "}\n",
    "\n",
    "main();"
   ]
  },
  {
   "cell_type": "code",
   "execution_count": 9,
   "metadata": {},
   "outputs": [
    {
     "name": "stdout",
     "output_type": "stream",
     "text": [
      "ok\n"
     ]
    },
    {
     "ename": "Error",
     "evalue": "Child process terminated with status: signal: 15",
     "output_type": "error",
     "traceback": [
      "Child process terminated with status: signal: 15"
     ]
    }
   ],
   "source": [
    "use libc::{signal, raise};\n",
    "use libc::{SIG_DFL, SIG_IGN, SIGTERM}\n",
    "\n",
    "fn main() {\n",
    "    unsafe {\n",
    "        signal(SIGTERM, SIG_IGN);\n",
    "        raise(SIGTERM);\n",
    "    }\n",
    "\n",
    "    println!(\"ok\");\n",
    "\n",
    "    unsafe {\n",
    "        signal(SIGTERM, SIG_DFL);\n",
    "        raise(SIGTERM);\n",
    "    }\n",
    "\n",
    "    println!(\"not ok\");\n",
    "}\n",
    "\n",
    "main();"
   ]
  },
  {
   "cell_type": "code",
   "execution_count": 10,
   "metadata": {},
   "outputs": [
    {
     "name": "stdout",
     "output_type": "stream",
     "text": [
      "\n",
      "#\n",
      "##\n",
      "###\n",
      "####\n",
      "#####\n",
      "####\n",
      "###\n",
      "##\n",
      "#\n",
      "\n"
     ]
    }
   ],
   "source": [
    "fn print_depth(depth: usize) {\n",
    "    for _ in 0..depth {\n",
    "        print!(\"#\");\n",
    "    }\n",
    "    println!(\"\");\n",
    "}\n",
    "\n",
    "fn dive(depth: usize, max_depth: usize) {\n",
    "    print_depth(depth);\n",
    "    if depth >= max_depth {\n",
    "        return;\n",
    "    } else {\n",
    "        dive(depth+1, max_depth);\n",
    "    }\n",
    "    print_depth(depth);\n",
    "}\n",
    "\n",
    "dive(0,5);"
   ]
  },
  {
   "cell_type": "code",
   "execution_count": null,
   "metadata": {},
   "outputs": [],
   "source": []
  }
 ],
 "metadata": {
  "kernelspec": {
   "display_name": "Rust",
   "language": "rust",
   "name": "rust"
  },
  "language_info": {
   "codemirror_mode": "rust",
   "file_extension": ".rs",
   "mimetype": "text/rust",
   "name": "Rust",
   "pygment_lexer": "rust",
   "version": ""
  },
  "orig_nbformat": 4
 },
 "nbformat": 4,
 "nbformat_minor": 2
}
